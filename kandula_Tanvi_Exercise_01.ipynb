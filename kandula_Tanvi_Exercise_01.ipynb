{
  "cells": [
    {
      "cell_type": "markdown",
      "metadata": {
        "id": "view-in-github"
      },
      "source": [
        "<a href=\"https://colab.research.google.com/github/unt-iialab/INFO5731_Spring2020/blob/master/In_class_exercise/In_class_exercise_01.ipynb\" target=\"_parent\"><img src=\"https://colab.research.google.com/assets/colab-badge.svg\" alt=\"Open In Colab\"/></a>"
      ]
    },
    {
      "cell_type": "markdown",
      "metadata": {
        "id": "DymRJbxDBCnf"
      },
      "source": [
        "# **This first In-class-exercise cover a variety of fundamental concepts in Python and are designed to help individuals improve their coding skills and problem-solving abilities.**\n",
        "\n",
        "The submission is due on 01/31/2024 11:59 PM. This submission is worth 40 points in total.\n"
      ]
    },
    {
      "cell_type": "markdown",
      "source": [
        "(1) Write a Python program that  prompts the user to input the length and width of a rectangle, and then calculates and displays the area of the rectangle."
      ],
      "metadata": {
        "id": "FBKvD6O_TY6e"
      }
    },
    {
      "cell_type": "code",
      "source": [
        "# Prompt the user to input the length and width of the rectangle\n",
        "length = float(input(\"Enter the length of the rectangle: \"))\n",
        "width = float(input(\"Enter the width of the rectangle: \"))\n",
        "\n",
        "area = length * width\n",
        "\n",
        "print(\"The area of the rectangle is:\", area)"
      ],
      "metadata": {
        "id": "cikVKDXdTbzE",
        "colab": {
          "base_uri": "https://localhost:8080/"
        },
        "outputId": "ee3daef3-1940-4a21-e4d9-fe319af1862a"
      },
      "execution_count": 3,
      "outputs": [
        {
          "output_type": "stream",
          "name": "stdout",
          "text": [
            "Enter the length of the rectangle: 6\n",
            "Enter the width of the rectangle: 3\n",
            "The area of the rectangle is: 18.0\n"
          ]
        }
      ]
    },
    {
      "cell_type": "markdown",
      "source": [
        "(2) Create a Python program that interactively takes two numerical inputs from the user and swaps their values without utilizing an extra variable."
      ],
      "metadata": {
        "id": "E9RqrlwdTfvl"
      }
    },
    {
      "cell_type": "code",
      "source": [
        "# Taking input from the user\n",
        "num1 = float(input(\"Enter the first number: \"))\n",
        "num2 = float(input(\"Enter the second number: \"))\n",
        "\n",
        "num1 = num1 + num2\n",
        "num2 = num1 - num2\n",
        "num1 = num1 - num2\n",
        "\n",
        "print(\"The first number after swapping: \", num1)\n",
        "print(\"The second number after swapping: \", num2)"
      ],
      "metadata": {
        "id": "4XvRknixTh1g",
        "colab": {
          "base_uri": "https://localhost:8080/"
        },
        "outputId": "c18a2bc1-17ef-456b-f45f-798eb3aee7c8"
      },
      "execution_count": 4,
      "outputs": [
        {
          "output_type": "stream",
          "name": "stdout",
          "text": [
            "Enter the first number: 6\n",
            "Enter the second number: 2\n",
            "The first number after swapping:  2.0\n",
            "The second number after swapping:  6.0\n"
          ]
        }
      ]
    },
    {
      "cell_type": "markdown",
      "metadata": {
        "id": "03jb4GZsBkBS"
      },
      "source": [
        "(3) Write a Python script to determine and print the length of a user-input string."
      ]
    },
    {
      "cell_type": "code",
      "execution_count": 5,
      "metadata": {
        "id": "YaGLbSHHB8Ej",
        "colab": {
          "base_uri": "https://localhost:8080/"
        },
        "outputId": "89193c8d-4fa6-42b4-ee29-1a776a8d8b7e"
      },
      "outputs": [
        {
          "output_type": "stream",
          "name": "stdout",
          "text": [
            "Enter a string: My name is Tanvi\n",
            "The length of the input string is: 16\n"
          ]
        }
      ],
      "source": [
        "# Prompt the user to input a string\n",
        "user_input = input(\"Enter a string: \")\n",
        "\n",
        "# Calculate the length of the input string\n",
        "length = len(user_input)\n",
        "\n",
        "# Print the length of the input string\n",
        "print(\"The length of the input string is:\", length)\n",
        "\n"
      ]
    },
    {
      "cell_type": "markdown",
      "metadata": {
        "id": "jJDe71iLB616"
      },
      "source": [
        "(4) Construct a Python program that counts and displays the occurrences of each character in a given string.\n",
        "\n",
        "Sample String: 'openai.ai',\n",
        "\n",
        "Expected Result: {'a': 2, 'i': 2, '.': 1, 'o': 1, 'p': 1, 'e': 1, 'n': 1}"
      ]
    },
    {
      "cell_type": "code",
      "execution_count": 9,
      "metadata": {
        "id": "MtKskTzbCLaU",
        "colab": {
          "base_uri": "https://localhost:8080/"
        },
        "outputId": "67be8278-d9b2-40ce-aab6-80c3c2a62de4"
      },
      "outputs": [
        {
          "output_type": "stream",
          "name": "stdout",
          "text": [
            "{'o': 1, 'p': 1, 'e': 1, 'n': 1, 'a': 2, 'i': 2, '.': 1}\n"
          ]
        }
      ],
      "source": [
        "def count_characters(input_string):\n",
        "\n",
        "    char_counts = {}\n",
        "\n",
        "    for char in input_string:\n",
        "\n",
        "        char_counts[char] = char_counts.get(char, 0) + 1\n",
        "\n",
        "    return char_counts\n",
        "\n",
        "sample_string = 'openai.ai'\n",
        "result = count_characters(sample_string)\n",
        "print(result)\n"
      ]
    },
    {
      "cell_type": "markdown",
      "metadata": {
        "id": "55W9AMdXCSpV"
      },
      "source": [
        "(5) Design a Python code to calculate the sum of all elements in a user-provided list."
      ]
    },
    {
      "cell_type": "code",
      "execution_count": 10,
      "metadata": {
        "id": "I57NXsauCec2",
        "colab": {
          "base_uri": "https://localhost:8080/"
        },
        "outputId": "571db2ef-d683-4e9f-a36b-c8a30d66bf01"
      },
      "outputs": [
        {
          "output_type": "stream",
          "name": "stdout",
          "text": [
            "Enter the elements of the list separated by spaces: 8\n",
            "The sum of all elements in the list is: 8\n"
          ]
        }
      ],
      "source": [
        "def calculate_sum(input_list):\n",
        "    total = 0\n",
        "    for element in input_list:\n",
        "        total += element\n",
        "    return total\n",
        "\n",
        "user_list = [int(x) for x in input(\"Enter the elements of the list separated by spaces: \").split()]\n",
        "result = calculate_sum(user_list)\n",
        "print(\"The sum of all elements in the list is:\", result)\n"
      ]
    },
    {
      "cell_type": "markdown",
      "metadata": {
        "id": "4ulBZ6yhCi9F"
      },
      "source": [
        "(6) Write a Python program that modifies a given string by replacing all occurrences of its first character with '$', excluding the first character itself.\n",
        "\n",
        "\n",
        "Sample String : 'restart‘,\n",
        "\n",
        "Expected Result : 'resta\\$t'"
      ]
    },
    {
      "cell_type": "code",
      "execution_count": 11,
      "metadata": {
        "id": "Fj0XhwbBCw2o",
        "colab": {
          "base_uri": "https://localhost:8080/"
        },
        "outputId": "0d1a26b2-7ffc-409c-aeef-1ebcffee1892"
      },
      "outputs": [
        {
          "output_type": "stream",
          "name": "stdout",
          "text": [
            "resta$t\n"
          ]
        }
      ],
      "source": [
        "def modify_string(input_string):\n",
        "    first_char = input_string[0]\n",
        "    modified_string = first_char + input_string[1:].replace(first_char, '$')\n",
        "    return modified_string\n",
        "\n",
        "sample_string = 'restart'\n",
        "result = modify_string(sample_string)\n",
        "print(result)\n"
      ]
    },
    {
      "cell_type": "markdown",
      "source": [
        "(7) Write a Python program using a while loop to compute the factorial of a user-supplied number."
      ],
      "metadata": {
        "id": "qVXA3q7ET5JI"
      }
    },
    {
      "cell_type": "code",
      "source": [
        "# Get user input for the number\n",
        "num = int(input(\"Enter a number: \"))\n",
        "\n",
        "# Initialize the factorial to 1\n",
        "factorial = 1\n",
        "\n",
        "# Check if the number is negative, zero, or positive\n",
        "if num < 0:\n",
        "    print(\"Sorry, factorial does not exist for negative numbers\")\n",
        "elif num == 0:\n",
        "    print(\"The factorial of 0 is 1\")\n",
        "else:\n",
        "    while num > 0:\n",
        "        factorial *= num\n",
        "        num -= 1\n",
        "    print(\"The factorial of\", num, \"is\", factorial)"
      ],
      "metadata": {
        "id": "Lbt7R6UkT7BA",
        "colab": {
          "base_uri": "https://localhost:8080/"
        },
        "outputId": "12b05999-1427-4e55-aa3c-9a357ccd9328"
      },
      "execution_count": 12,
      "outputs": [
        {
          "output_type": "stream",
          "name": "stdout",
          "text": [
            "Enter a number: 6\n",
            "The factorial of 0 is 720\n"
          ]
        }
      ]
    },
    {
      "cell_type": "markdown",
      "source": [
        "(8) Create a program that accepts a list of numbers as input and outputs a new list containing only the even numbers."
      ],
      "metadata": {
        "id": "6YfbzXMNT--R"
      }
    },
    {
      "cell_type": "code",
      "source": [
        "def filter_even_numbers(input_list):\n",
        "    return [num for num in input_list if num % 2 == 0]\n",
        "\n",
        "input_numbers = [1, 2, 3, 4, 5, 6, 7, 8, 9, 10]\n",
        "even_numbers = filter_even_numbers(input_numbers)\n",
        "print(even_numbers)"
      ],
      "metadata": {
        "id": "54q7wMQPUAKu",
        "colab": {
          "base_uri": "https://localhost:8080/"
        },
        "outputId": "179c3a1e-7b97-42ff-cd6a-cb14203e9248"
      },
      "execution_count": 13,
      "outputs": [
        {
          "output_type": "stream",
          "name": "stdout",
          "text": [
            "[2, 4, 6, 8, 10]\n"
          ]
        }
      ]
    },
    {
      "cell_type": "markdown",
      "metadata": {
        "id": "_bIP7s1MCzue"
      },
      "source": [
        "\n",
        "(9) Design a Python function to check if a number is prime.\n"
      ]
    },
    {
      "cell_type": "code",
      "execution_count": 19,
      "metadata": {
        "id": "w79QilHXD3Mg",
        "colab": {
          "base_uri": "https://localhost:8080/"
        },
        "outputId": "219d859c-b19f-4dc5-a80b-c56603ba37d6"
      },
      "outputs": [
        {
          "output_type": "stream",
          "name": "stdout",
          "text": [
            "17 is a prime number.\n"
          ]
        }
      ],
      "source": [
        "def is_prime(number):\n",
        "    if number < 2:\n",
        "        return False\n",
        "\n",
        "    for i in range(2, int(number**0.5) + 1):\n",
        "        if number % i == 0:\n",
        "            return False\n",
        "\n",
        "    return True\n",
        "num_to_check = 17\n",
        "if is_prime(num_to_check):\n",
        "    print(f\"{num_to_check} is a prime number.\")\n",
        "else:\n",
        "    print(f\"{num_to_check} is not a prime number.\")\n",
        "\n"
      ]
    },
    {
      "cell_type": "markdown",
      "metadata": {
        "id": "xCa2bK9aD4Q3"
      },
      "source": [
        "(10) Write a Python program to concatenate following dictionaries to create a new one.\n",
        "\n",
        "Sample Dictionary : dic1={1:10, 2:20}, dic2={3:30, 4:40}, dic3={5:50,6:60},\n",
        "\n",
        "Expected Result : {1: 10, 2: 20, 3: 30, 4: 40, 5: 50, 6: 60}\n"
      ]
    },
    {
      "cell_type": "code",
      "execution_count": 20,
      "metadata": {
        "id": "_z4aLqAbEET1",
        "colab": {
          "base_uri": "https://localhost:8080/"
        },
        "outputId": "655554a8-a843-426b-af15-aa7923e349ec"
      },
      "outputs": [
        {
          "output_type": "stream",
          "name": "stdout",
          "text": [
            "{1: 10, 2: 20, 3: 30, 4: 40, 5: 50, 6: 60}\n"
          ]
        }
      ],
      "source": [
        "# Sample dictionaries\n",
        "dic1 = {1: 10, 2: 20}\n",
        "dic2 = {3: 30, 4: 40}\n",
        "dic3 = {5: 50, 6: 60}\n",
        "\n",
        "# Concatenating dictionaries\n",
        "result_dict = {}\n",
        "for d in (dic1, dic2, dic3):\n",
        "    result_dict.update(d)\n",
        "\n",
        "# Printing the expected result\n",
        "print(result_dict)\n"
      ]
    },
    {
      "cell_type": "markdown",
      "source": [
        "(11) Design a Python function that takes a tuple of integers as input and returns the largest and smallest elements."
      ],
      "metadata": {
        "id": "bkyZ2xSZUOst"
      }
    },
    {
      "cell_type": "code",
      "source": [
        "def find_largest_smallest(numbers):\n",
        "    if not numbers:\n",
        "        return None, None\n",
        "\n",
        "    largest = smallest = numbers[0]\n",
        "\n",
        "    for num in numbers:\n",
        "        if num > largest:\n",
        "            largest = num\n",
        "        elif num < smallest:\n",
        "            smallest = num\n",
        "\n",
        "    return largest, smallest\n",
        "input_tuple = (4, 9, 2, 7, 1, 5)\n",
        "largest, smallest = find_largest_smallest(input_tuple)\n",
        "\n",
        "print(f\"The largest element is: {largest}\")\n",
        "print(f\"The smallest element is: {smallest}\")\n"
      ],
      "metadata": {
        "id": "3FdLRBKOUQEd",
        "colab": {
          "base_uri": "https://localhost:8080/"
        },
        "outputId": "ba293fa9-df46-46ba-c668-9723bc103a71"
      },
      "execution_count": 23,
      "outputs": [
        {
          "output_type": "stream",
          "name": "stdout",
          "text": [
            "The largest element is: 9\n",
            "The smallest element is: 1\n",
            "The largest element is: 9\n",
            "The smallest element is: 1\n"
          ]
        }
      ]
    },
    {
      "cell_type": "markdown",
      "source": [
        "(12) Write a Python program that counts the frequency of each character in a given string and stores it in a dictionary."
      ],
      "metadata": {
        "id": "O0TVi3gKUTpp"
      }
    },
    {
      "cell_type": "code",
      "source": [
        "# Step 1: Define the input string\n",
        "input_string = \"bold just the answer to the question using Markdown\"\n",
        "\n",
        "# Step 2: Initialize an empty dictionary\n",
        "char_freq_dict = {}\n",
        "\n",
        "# Step 3-6: Iterate through each character and update the dictionary\n",
        "for char in input_string:\n",
        "    if char.isalpha() or char.isdigit() or char == ' ':  # Ignore non-alphanumeric characters\n",
        "        char = char.lower()  # Convert to lowercase for case-insensitive counting\n",
        "\n",
        "        if char in char_freq_dict:\n",
        "            char_freq_dict[char] += 1\n",
        "        else:\n",
        "            char_freq_dict[char] = 1\n",
        "\n",
        "# Print the resulting dictionary\n",
        "print(char_freq_dict)"
      ],
      "metadata": {
        "id": "lAtfSfZXUU-h",
        "colab": {
          "base_uri": "https://localhost:8080/"
        },
        "outputId": "d74d551f-f486-4651-c673-afc70b11e87a"
      },
      "execution_count": 24,
      "outputs": [
        {
          "output_type": "stream",
          "name": "stdout",
          "text": [
            "{'b': 1, 'o': 4, 'l': 1, 'd': 2, ' ': 8, 'j': 1, 'u': 3, 's': 4, 't': 5, 'h': 2, 'e': 4, 'a': 2, 'n': 4, 'w': 2, 'r': 2, 'q': 1, 'i': 2, 'g': 1, 'm': 1, 'k': 1}\n"
          ]
        }
      ]
    },
    {
      "cell_type": "markdown",
      "metadata": {
        "id": "0v48Vqa7FrQh"
      },
      "source": [
        "(13) Implement a Python script to identify duplicate elements in a provided array of integers. Return -1 if there are no duplicates."
      ]
    },
    {
      "cell_type": "code",
      "execution_count": 25,
      "metadata": {
        "id": "7WEmgq-DF2P1",
        "colab": {
          "base_uri": "https://localhost:8080/"
        },
        "outputId": "d56aab7c-3198-4702-8182-7bd7e5c29626"
      },
      "outputs": [
        {
          "output_type": "stream",
          "name": "stdout",
          "text": [
            "[2, 3]\n"
          ]
        }
      ],
      "source": [
        "def find_duplicates(arr):\n",
        "    seen = {}\n",
        "    duplicates = []\n",
        "\n",
        "    for num in arr:\n",
        "        if num in seen:\n",
        "            if num not in duplicates:\n",
        "                duplicates.append(num)\n",
        "        else:\n",
        "            seen[num] = 1\n",
        "\n",
        "    if len(duplicates) == 0:\n",
        "        return -1\n",
        "    else:\n",
        "        return duplicates\n",
        "\n",
        "# Example usage\n",
        "arr = [1, 2, 3, 4, 5, 2, 7, 8, 3]\n",
        "result = find_duplicates(arr)\n",
        "print(result)\n",
        "\n",
        "\n",
        "\n"
      ]
    },
    {
      "cell_type": "markdown",
      "source": [],
      "metadata": {
        "id": "5ZnnOC_e6HFJ"
      }
    },
    {
      "cell_type": "markdown",
      "metadata": {
        "id": "vD5PYLMuGga_"
      },
      "source": [
        "(14) Write a Python script to find the common elements between two lists."
      ]
    },
    {
      "cell_type": "code",
      "execution_count": 26,
      "metadata": {
        "id": "t0D5kdJUGjjw",
        "colab": {
          "base_uri": "https://localhost:8080/"
        },
        "outputId": "1658e539-00d0-429b-a883-30ae33819a61"
      },
      "outputs": [
        {
          "output_type": "stream",
          "name": "stdout",
          "text": [
            "[3, 4, 5]\n"
          ]
        }
      ],
      "source": [
        "def find_common_elements(list1, list2):\n",
        "    return list(set(list1) & set(list2))\n",
        "\n",
        "list1 = [1, 2, 3, 4, 5]\n",
        "list2 = [3, 4, 5, 6, 7]\n",
        "\n",
        "common_elements = find_common_elements(list1, list2)\n",
        "print(common_elements)\n"
      ]
    },
    {
      "cell_type": "markdown",
      "metadata": {
        "id": "uHkd-y5VhVWC"
      },
      "source": [
        "(15) Write a Python program to randomly divide the students in this class into six groups for term projects, each group should have at least 4 students but no more than 6 students (including 6).\n",
        "\n",
        "Here is the students list:\n",
        "\n",
        "student_list_spring_2024=[rb0846,\n",
        "ac1964,\n",
        "hc0612,\n",
        "md0912,\n",
        "ad1198,\n",
        "md0894,\n",
        "md0825,\n",
        "vg0598,\n",
        "vg0433,\n",
        "mh1068,\n",
        "yj0173,\n",
        "pk0553,\n",
        "tk0411,\n",
        "srk0204,\n",
        "sk2922,\n",
        "sk2936,\n",
        "mk1302,\n",
        "mk1317,\n",
        "tk0412,\n",
        "vk0656,\n",
        "sm2985,\n",
        "mm2372,\n",
        "un0045,\n",
        "an0892,\n",
        "sn0913,\n",
        "gp0252,\n",
        "ap1484,\n",
        "mr1765,\n",
        "sr1385,\n",
        "sr1335,\n",
        "hs0665,\n",
        "ms2060,\n",
        "gt0217,\n",
        "nt0385,\n",
        "tv0186,\n",
        "sv1394,\n",
        "sv1752,\n",
        "sv1555,\n",
        "sy0594\n",
        "]\n"
      ]
    },
    {
      "cell_type": "code",
      "execution_count": 27,
      "metadata": {
        "id": "3iGbmcOBhTwy",
        "colab": {
          "base_uri": "https://localhost:8080/"
        },
        "outputId": "cc87db01-4402-4f13-b170-ecd19e00c09a"
      },
      "outputs": [
        {
          "output_type": "stream",
          "name": "stdout",
          "text": [
            "Group 1: ['un0045', 'mm2372', 'ad1198', 'tv0186', 'an0892', 'mr1765']\n",
            "Group 2: ['tk0411', 'ms2060', 'gt0217', 'mk1317', 'md0894', 'sv1555']\n",
            "Group 3: ['ap1484', 'vk0656', 'sv1394', 'vg0598', 'md0912', 'sr1385']\n",
            "Group 4: ['sy0594', 'gp0252', 'rb0846', 'sr1335']\n",
            "Group 5: ['tk0412', 'mk1302', 'md0825', 'sm2985']\n",
            "Group 6: ['srk0204', 'pk0553', 'sk2936', 'ac1964', 'sv1752', 'vg0433']\n"
          ]
        }
      ],
      "source": [
        "import random\n",
        "\n",
        "student_list_spring_2024 = ['rb0846', 'ac1964', 'hc0612', 'md0912', 'ad1198', 'md0894', 'md0825', 'vg0598', 'vg0433', 'mh1068', 'yj0173', 'pk0553', 'tk0411', 'srk0204', 'sk2922', 'sk2936', 'mk1302', 'mk1317', 'tk0412', 'vk0656', 'sm2985', 'mm2372', 'un0045', 'an0892', 'sn0913', 'gp0252', 'ap1484', 'mr1765', 'sr1385', 'sr1335', 'hs0665', 'ms2060', 'gt0217', 'nt0385', 'tv0186', 'sv1394', 'sv1752', 'sv1555', 'sy0594']\n",
        "\n",
        "# Shuffle the student list\n",
        "random.shuffle(student_list_spring_2024)\n",
        "\n",
        "# Divide the students into groups\n",
        "num_groups = 6\n",
        "group_size_min = 4\n",
        "group_size_max = 6\n",
        "\n",
        "groups = []\n",
        "start = 0\n",
        "for i in range(num_groups):\n",
        "    group_size = random.randint(group_size_min, group_size_max)\n",
        "    end = start + group_size\n",
        "    groups.append(student_list_spring_2024[start:end])\n",
        "    start = end\n",
        "\n",
        "# Print the groups\n",
        "for i, group in enumerate(groups):\n",
        "    print(f\"Group {i+1}: {group}\")\n"
      ]
    },
    {
      "cell_type": "markdown",
      "metadata": {
        "id": "fmZ9vX20Qs3d"
      },
      "source": [
        "(16) Create a program that takes a positive integer 'n' as input and prints the count of even numbers from 1 to 'n'. Optimize the loop using the break statement."
      ]
    },
    {
      "cell_type": "code",
      "execution_count": 28,
      "metadata": {
        "id": "W8Jw6sWMQs3d",
        "colab": {
          "base_uri": "https://localhost:8080/"
        },
        "outputId": "426af83e-a0a6-49bb-821e-0b4e5abbde2f"
      },
      "outputs": [
        {
          "output_type": "stream",
          "name": "stdout",
          "text": [
            "Enter a positive integer: 2\n",
            "The count of even numbers from 1 to 2 is: 1\n"
          ]
        }
      ],
      "source": [
        "# Taking input from the user\n",
        "n = int(input(\"Enter a positive integer: \"))\n",
        "\n",
        "# Initializing count variable to store the count of even numbers\n",
        "count = 0\n",
        "\n",
        "# Looping through numbers from 1 to n\n",
        "for i in range(1, n+1):\n",
        "    # Checking if the number is even\n",
        "    if i % 2 == 0:\n",
        "        count += 1\n",
        "    # Optimizing the loop using the break statement\n",
        "    elif i > n:\n",
        "        break\n",
        "\n",
        "# Printing the count of even numbers\n",
        "print(\"The count of even numbers from 1 to\", n, \"is:\", count)\n",
        "\n"
      ]
    },
    {
      "cell_type": "markdown",
      "metadata": {
        "id": "hvq4APMhQs3d"
      },
      "source": [
        "(17) Develop a Python function called 'count_vowels' that takes a string as input and returns the count of vowels (both lowercase and uppercase) present in the string, ignoring spaces and non-alphabetic characters."
      ]
    },
    {
      "cell_type": "code",
      "execution_count": 30,
      "metadata": {
        "id": "ZnoxhSglQs3d",
        "colab": {
          "base_uri": "https://localhost:8080/"
        },
        "outputId": "bf4d3f4d-95ab-4f81-b1d6-eb07be6cbc3f"
      },
      "outputs": [
        {
          "output_type": "stream",
          "name": "stdout",
          "text": [
            "The number of vowels in the string is: 9\n"
          ]
        }
      ],
      "source": [
        "def count_vowels(input_string):\n",
        "    # Define a set of vowels\n",
        "    vowels = set(\"aeiouAEIOU\")\n",
        "\n",
        "    # Initialize a variable to store the count\n",
        "    vowel_count = 0\n",
        "\n",
        "    # Iterate through the characters in the string\n",
        "    for char in input_string:\n",
        "        # Check if the character is an alphabetic character and a vowel\n",
        "        if char.isalpha() and char in vowels:\n",
        "            vowel_count += 1\n",
        "\n",
        "    return vowel_count\n",
        "\n",
        "# Test the function\n",
        "sample_string = \"Hello, World! This is a Sample String.\"\n",
        "result = count_vowels(sample_string)\n",
        "\n",
        "print(f\"The number of vowels in the string is: {result}\")\n",
        "\n"
      ]
    },
    {
      "cell_type": "markdown",
      "source": [
        "(18) Create a custom exception named ValueTooSmallError in Python. Write a program that takes user input for an age, and if the entered age is less than 18, raise the ValueTooSmallError with an appropriate error message."
      ],
      "metadata": {
        "id": "55FWoSJPVVM6"
      }
    },
    {
      "cell_type": "code",
      "source": [
        "class ValueTooSmallError(Exception):\n",
        "    pass\n",
        "\n",
        "def check_age(age):\n",
        "    if age < 18:\n",
        "        raise ValueTooSmallError(\"Age should be 18 or above\")\n",
        "    else:\n",
        "        print(\"Valid age\")\n",
        "\n",
        "try:\n",
        "    user_age = int(input(\"Enter your age: \"))\n",
        "    check_age(user_age)\n",
        "except ValueTooSmallError as e:\n",
        "    print(e)\n"
      ],
      "metadata": {
        "id": "hwtr1wZmVX5A",
        "colab": {
          "base_uri": "https://localhost:8080/"
        },
        "outputId": "e7647736-b21d-4a79-bc1c-4d6dcb5496ce"
      },
      "execution_count": 31,
      "outputs": [
        {
          "output_type": "stream",
          "name": "stdout",
          "text": [
            "Enter your age: 23\n",
            "Valid age\n"
          ]
        }
      ]
    },
    {
      "cell_type": "markdown",
      "source": [
        "(19) Develop a script that reverses a given string without using built-in reverse functions."
      ],
      "metadata": {
        "id": "Q9ecagcaVazW"
      }
    },
    {
      "cell_type": "code",
      "source": [
        "# Function to reverse a string without using built-in functions\n",
        "def reverse_string(input_string):\n",
        "    reversed_string = \"\"\n",
        "    for char in input_string:\n",
        "        reversed_string = char + reversed_string\n",
        "    return reversed_string\n",
        "\n",
        "# Test the function\n",
        "input_str = \"Hello, World!\"\n",
        "reversed_str = reverse_string(input_str)\n",
        "print(reversed_str)\n"
      ],
      "metadata": {
        "id": "gycgckoAVZjR",
        "colab": {
          "base_uri": "https://localhost:8080/"
        },
        "outputId": "bf208c61-33c6-468c-cb64-e1471fd03439"
      },
      "execution_count": 32,
      "outputs": [
        {
          "output_type": "stream",
          "name": "stdout",
          "text": [
            "!dlroW ,olleH\n"
          ]
        }
      ]
    },
    {
      "cell_type": "markdown",
      "source": [
        "(20) Implement a Python script to generate a random password of a specified length."
      ],
      "metadata": {
        "id": "ZFG6RibifMLu"
      }
    },
    {
      "cell_type": "code",
      "source": [
        "import secrets\n",
        "import string\n",
        "\n",
        "def generate_password(length):\n",
        "    alphabet = string.ascii_letters + string.digits + string.punctuation\n",
        "    password = ''.join(secrets.choice(alphabet) for i in range(length))\n",
        "    return password\n",
        "\n",
        "password_length = 12  # specify the length of the password\n",
        "random_password = generate_password(password_length)\n",
        "print(random_password)\n"
      ],
      "metadata": {
        "id": "BFVrkEi9fNiD",
        "colab": {
          "base_uri": "https://localhost:8080/"
        },
        "outputId": "978b9c36-ed64-44ee-adbb-8fa2a8c51bd7"
      },
      "execution_count": 33,
      "outputs": [
        {
          "output_type": "stream",
          "name": "stdout",
          "text": [
            "?$HN<!!ax_}Z\n"
          ]
        }
      ]
    },
    {
      "cell_type": "markdown",
      "source": [
        "# Try these questions:"
      ],
      "metadata": {
        "id": "6SmvS7nSfbj8"
      }
    },
    {
      "cell_type": "markdown",
      "source": [
        "(21) Define a base class called 'Vehicle' with attributes make and model. Create a derived class Car that inherits from Vehicle and has an additional attribute 'num_doors'. Demonstrate an example of creating an instance of the 'Car' class and accessing its attributes."
      ],
      "metadata": {
        "id": "cboAr5pEWUf5"
      }
    },
    {
      "cell_type": "code",
      "source": [
        "class Vehicle:\n",
        "    def __init__(self, make, model):\n",
        "        self.make = make\n",
        "        self.model = model\n",
        "\n",
        "class Car(Vehicle):\n",
        "    def __init__(self, make, model, num_doors):\n",
        "        super().__init__(make, model)\n",
        "        self.num_doors = num_doors\n",
        "\n",
        "# Creating an instance of the 'Car' class\n",
        "my_car = Car(\"Toyota\", \"Camry\", 4)\n",
        "\n",
        "# Accessing the attributes of the 'Car' instance\n",
        "print(\"Make:\", my_car.make)\n",
        "print(\"Model:\", my_car.model)\n",
        "print(\"Number of Doors:\", my_car.num_doors)\n",
        "\n",
        "\n"
      ],
      "metadata": {
        "id": "phs9gciMWWAW",
        "colab": {
          "base_uri": "https://localhost:8080/"
        },
        "outputId": "0cf17c8d-a89b-45e1-b3ee-185859796ea2"
      },
      "execution_count": 34,
      "outputs": [
        {
          "output_type": "stream",
          "name": "stdout",
          "text": [
            "Make: Toyota\n",
            "Model: Camry\n",
            "Number of Doors: 4\n"
          ]
        }
      ]
    },
    {
      "cell_type": "markdown",
      "source": [
        "(22) Create a class called 'Shape' with a method calculate_area(). Implement two derived classes 'Circle' and 'Rectangle' that inherit from Shape and override the calculate_area() method. Demonstrate polymorphism by creating instances of both derived classes and calling the calculate_area() method."
      ],
      "metadata": {
        "id": "J8HHefNtePwd"
      }
    },
    {
      "cell_type": "code",
      "source": [
        "import math\n",
        "\n",
        "class Shape:\n",
        "    def calculate_area(self):\n",
        "        pass\n",
        "\n",
        "class Circle(Shape):\n",
        "    def __init__(self, radius):\n",
        "        self.radius = radius\n",
        "\n",
        "    def calculate_area(self):\n",
        "        return math.pi * self.radius**2\n",
        "\n",
        "class Rectangle(Shape):\n",
        "    def __init__(self, length, width):\n",
        "        self.length = length\n",
        "        self.width = width\n",
        "\n",
        "    def calculate_area(self):\n",
        "        return self.length * self.width\n",
        "\n",
        "circle_instance = Circle(5)\n",
        "rectangle_instance = Rectangle(4, 6)\n",
        "\n",
        "print(f\"Area of the circle: {circle_instance.calculate_area()}\")\n",
        "print(f\"Area of the rectangle: {rectangle_instance.calculate_area()}\")\n"
      ],
      "metadata": {
        "id": "btnMmUZDeRhS",
        "colab": {
          "base_uri": "https://localhost:8080/"
        },
        "outputId": "609409f5-731d-4bec-a673-e35da3e3c400"
      },
      "execution_count": 37,
      "outputs": [
        {
          "output_type": "stream",
          "name": "stdout",
          "text": [
            "Area of the circle: 78.53981633974483\n",
            "Area of the rectangle: 24\n"
          ]
        }
      ]
    },
    {
      "cell_type": "markdown",
      "source": [
        "(23) Write a Python program that prompts the user to enter two numbers and perform a division operation. Handle exceptions for both zero division and invalid input (non-numeric input). Display appropriate error messages for each type of exception and ensure the program does not crash due to these errors."
      ],
      "metadata": {
        "id": "z0oqEAlTeMUS"
      }
    },
    {
      "cell_type": "code",
      "source": [
        "def divide_numbers():\n",
        "    try:\n",
        "        num1 = float(input(\"Enter the first number: \"))\n",
        "        num2 = float(input(\"Enter the second number: \"))\n",
        "        result = num1 / num2\n",
        "\n",
        "        print(f\"The result of {num1} / {num2} is: {result}\")\n",
        "\n",
        "    except ValueError:\n",
        "        print(\"Invalid input. Please enter numeric values.\")\n",
        "\n",
        "    except ZeroDivisionError:\n",
        "        print(\"Error: Division by zero is not allowed.\")\n",
        "\n",
        "    except Exception as e:\n",
        "        print(f\"An unexpected error occurred: {e}\")\n",
        "\n",
        "divide_numbers()\n"
      ],
      "metadata": {
        "id": "yjdc1zM1eMAs",
        "colab": {
          "base_uri": "https://localhost:8080/"
        },
        "outputId": "64227fc6-fd8e-4923-ea10-46420e6bc269"
      },
      "execution_count": 36,
      "outputs": [
        {
          "output_type": "stream",
          "name": "stdout",
          "text": [
            "Enter the first number: 6\n",
            "Enter the second number: 3\n",
            "The result of 6.0 / 3.0 is: 2.0\n"
          ]
        }
      ]
    },
    {
      "cell_type": "markdown",
      "source": [
        "# Mandatory Question"
      ],
      "metadata": {
        "id": "sZOhks1dXWEe"
      }
    },
    {
      "cell_type": "markdown",
      "source": [
        "**Important:**\n",
        "Reflecting on the first three lectures and the exercises you've completed, please provide feedback on your learning experience. Share your thoughts on whether the material covered was clear, the exercises were helpful, and if you feel more confident in applying Python programming concepts. Additionally, mention any specific areas where you would like more clarification or topics you would like to explore further in future lectures. Your feedback is valuable in shaping the course for an effective learning journey."
      ],
      "metadata": {
        "id": "eqmHVEwaWhbV"
      }
    },
    {
      "cell_type": "markdown",
      "source": [
        "Write your response here."
      ],
      "metadata": {
        "id": "HlpXOT9wXQAd"
      }
    },
    {
      "cell_type": "code",
      "source": [
        "I have had a generally good learning experience with the first three lectures and assignments. It was simple to follow along and comprehend the fundamentals of Python programming because of the material's simple and well-organized presentation in the lectures. The instructor's lectures were quite detailed and made it easier to understand the basic ideas of Python."
      ],
      "metadata": {
        "id": "Dq2aOZU7XIke"
      },
      "execution_count": null,
      "outputs": []
    }
  ],
  "metadata": {
    "colab": {
      "provenance": []
    },
    "kernelspec": {
      "display_name": "Python 3 (ipykernel)",
      "language": "python",
      "name": "python3"
    },
    "language_info": {
      "codemirror_mode": {
        "name": "ipython",
        "version": 3
      },
      "file_extension": ".py",
      "mimetype": "text/x-python",
      "name": "python",
      "nbconvert_exporter": "python",
      "pygments_lexer": "ipython3",
      "version": "3.9.12"
    }
  },
  "nbformat": 4,
  "nbformat_minor": 0
}